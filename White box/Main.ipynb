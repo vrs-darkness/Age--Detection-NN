{
 "cells": [
  {
   "cell_type": "code",
   "execution_count": 2,
   "metadata": {},
   "outputs": [],
   "source": [
    "import pandas as pd\n",
    "import numpy as np\n",
    "from PIL import Image\n",
    "import matplotlib.pyplot as plt\n",
    "%matplotlib inline\n",
    "from numba import jit, cuda\n",
    "import random\n",
    "from math import *"
   ]
  },
  {
   "cell_type": "code",
   "execution_count": 3,
   "metadata": {},
   "outputs": [],
   "source": [
    "Data = pd.read_csv(r\"V:\\python\\Neural Network\\Training_Dataset\\train.csv\")\n",
    "Data[\"ID\"]\n",
    "Alpha = 0.5"
   ]
  },
  {
   "cell_type": "code",
   "execution_count": 4,
   "metadata": {},
   "outputs": [
    {
     "name": "stderr",
     "output_type": "stream",
     "text": [
      "C:\\Users\\VIGNESH RAAM SR\\AppData\\Local\\Temp\\ipykernel_4664\\86131548.py:1: NumbaWarning: \u001b[1m\n",
      "Compilation is falling back to object mode WITH looplifting enabled because Function \"func\" failed type inference due to: \u001b[1m\u001b[1mnon-precise type pyobject\u001b[0m\n",
      "\u001b[0m\u001b[1mDuring: typing of argument at C:\\Users\\VIGNESH RAAM SR\\AppData\\Local\\Temp\\ipykernel_4664\\86131548.py (3)\u001b[0m\n",
      "\u001b[1m\n",
      "File \"C:\\Users\\VIGNESH RAAM SR\\AppData\\Local\\Temp\\ipykernel_4664\\86131548.py\", line 3:\u001b[0m\n",
      "\u001b[1mdef func(Image1,Data):\n",
      "\u001b[1m    data=[]\n",
      "\u001b[0m    \u001b[1m^\u001b[0m\u001b[0m\n",
      "\u001b[0m\n",
      "  @jit(target_backend='cuda')\n",
      "C:\\Users\\VIGNESH RAAM SR\\AppData\\Local\\Temp\\ipykernel_4664\\86131548.py:1: NumbaWarning: \u001b[1m\n",
      "Compilation is falling back to object mode WITHOUT looplifting enabled because Function \"func\" failed type inference due to: \u001b[1m\u001b[1mCannot determine Numba type of <class 'numba.core.dispatcher.LiftedLoop'>\u001b[0m\n",
      "\u001b[1m\n",
      "File \"C:\\Users\\VIGNESH RAAM SR\\AppData\\Local\\Temp\\ipykernel_4664\\86131548.py\", line 4:\u001b[0m\n",
      "\u001b[1mdef func(Image1,Data):\n",
      "    <source elided>\n",
      "    data=[]\n",
      "\u001b[1m    for i in Data:\n",
      "\u001b[0m    \u001b[1m^\u001b[0m\u001b[0m\n",
      "\u001b[0m\u001b[0m\n",
      "  @jit(target_backend='cuda')\n",
      "c:\\Users\\VIGNESH RAAM SR\\AppData\\Local\\Programs\\Python\\Python310\\lib\\site-packages\\numba\\core\\object_mode_passes.py:151: NumbaWarning: \u001b[1mFunction \"func\" was compiled in object mode without forceobj=True, but has lifted loops.\n",
      "\u001b[1m\n",
      "File \"C:\\Users\\VIGNESH RAAM SR\\AppData\\Local\\Temp\\ipykernel_4664\\86131548.py\", line 3:\u001b[0m\n",
      "\u001b[1mdef func(Image1,Data):\n",
      "\u001b[1m    data=[]\n",
      "\u001b[0m    \u001b[1m^\u001b[0m\u001b[0m\n",
      "\u001b[0m\n",
      "  warnings.warn(errors.NumbaWarning(warn_msg,\n",
      "c:\\Users\\VIGNESH RAAM SR\\AppData\\Local\\Programs\\Python\\Python310\\lib\\site-packages\\numba\\core\\object_mode_passes.py:161: NumbaDeprecationWarning: \u001b[1m\n",
      "Fall-back from the nopython compilation path to the object mode compilation path has been detected, this is deprecated behaviour.\n",
      "\n",
      "For more information visit https://numba.readthedocs.io/en/stable/reference/deprecation.html#deprecation-of-object-mode-fall-back-behaviour-when-using-jit\n",
      "\u001b[1m\n",
      "File \"C:\\Users\\VIGNESH RAAM SR\\AppData\\Local\\Temp\\ipykernel_4664\\86131548.py\", line 3:\u001b[0m\n",
      "\u001b[1mdef func(Image1,Data):\n",
      "\u001b[1m    data=[]\n",
      "\u001b[0m    \u001b[1m^\u001b[0m\u001b[0m\n",
      "\u001b[0m\n",
      "  warnings.warn(errors.NumbaDeprecationWarning(msg,\n",
      "C:\\Users\\VIGNESH RAAM SR\\AppData\\Local\\Temp\\ipykernel_4664\\86131548.py:1: NumbaWarning: \u001b[1m\n",
      "Compilation is falling back to object mode WITHOUT looplifting enabled because Function \"func\" failed type inference due to: \u001b[1m\u001b[1mnon-precise type pyobject\u001b[0m\n",
      "\u001b[0m\u001b[1mDuring: typing of argument at C:\\Users\\VIGNESH RAAM SR\\AppData\\Local\\Temp\\ipykernel_4664\\86131548.py (4)\u001b[0m\n",
      "\u001b[1m\n",
      "File \"C:\\Users\\VIGNESH RAAM SR\\AppData\\Local\\Temp\\ipykernel_4664\\86131548.py\", line 4:\u001b[0m\n",
      "\u001b[1mdef func(Image1,Data):\n",
      "    <source elided>\n",
      "    data=[]\n",
      "\u001b[1m    for i in Data:\n",
      "\u001b[0m    \u001b[1m^\u001b[0m\u001b[0m\n",
      "\u001b[0m\n",
      "  @jit(target_backend='cuda')\n",
      "c:\\Users\\VIGNESH RAAM SR\\AppData\\Local\\Programs\\Python\\Python310\\lib\\site-packages\\numba\\core\\object_mode_passes.py:151: NumbaWarning: \u001b[1mFunction \"func\" was compiled in object mode without forceobj=True.\n",
      "\u001b[1m\n",
      "File \"C:\\Users\\VIGNESH RAAM SR\\AppData\\Local\\Temp\\ipykernel_4664\\86131548.py\", line 4:\u001b[0m\n",
      "\u001b[1mdef func(Image1,Data):\n",
      "    <source elided>\n",
      "    data=[]\n",
      "\u001b[1m    for i in Data:\n",
      "\u001b[0m    \u001b[1m^\u001b[0m\u001b[0m\n",
      "\u001b[0m\n",
      "  warnings.warn(errors.NumbaWarning(warn_msg,\n",
      "c:\\Users\\VIGNESH RAAM SR\\AppData\\Local\\Programs\\Python\\Python310\\lib\\site-packages\\numba\\core\\object_mode_passes.py:161: NumbaDeprecationWarning: \u001b[1m\n",
      "Fall-back from the nopython compilation path to the object mode compilation path has been detected, this is deprecated behaviour.\n",
      "\n",
      "For more information visit https://numba.readthedocs.io/en/stable/reference/deprecation.html#deprecation-of-object-mode-fall-back-behaviour-when-using-jit\n",
      "\u001b[1m\n",
      "File \"C:\\Users\\VIGNESH RAAM SR\\AppData\\Local\\Temp\\ipykernel_4664\\86131548.py\", line 4:\u001b[0m\n",
      "\u001b[1mdef func(Image1,Data):\n",
      "    <source elided>\n",
      "    data=[]\n",
      "\u001b[1m    for i in Data:\n",
      "\u001b[0m    \u001b[1m^\u001b[0m\u001b[0m\n",
      "\u001b[0m\n",
      "  warnings.warn(errors.NumbaDeprecationWarning(msg,\n"
     ]
    },
    {
     "name": "stdout",
     "output_type": "stream",
     "text": [
      "done\n"
     ]
    }
   ],
   "source": [
    "\n",
    "\n",
    "@jit(target_backend='cuda')\n",
    "def func(Image1,Data):\n",
    "    data=[]\n",
    "    for i in Data:\n",
    "        data.append(np.asarray(Image.open(Image1+i).resize((150,150)).convert(\"L\")))\n",
    "    return data\n",
    "\n",
    "\n",
    "if __name__==\"__main__\":\n",
    "    image=[]\n",
    "    Image1=r\"V:\\python\\Neural Network\\Training_Dataset\\Train\\\\\"\n",
    "    image = func(Image1,Data[\"ID\"])\n",
    "    print(\"done\")\n",
    "\n",
    "\n",
    "\n"
   ]
  },
  {
   "cell_type": "code",
   "execution_count": 129,
   "metadata": {},
   "outputs": [
    {
     "name": "stdout",
     "output_type": "stream",
     "text": [
      "[3648, 819, 9012, 8024, 7314, 4572, 3358, 17870, 2848, 19349]\n",
      "[3648, 819, 9012, 8024, 7314, 4572, 3358, 17870, 2848, 19349]\n"
     ]
    }
   ],
   "source": [
    "max_initial_node=150*150\n",
    "test_Inp = []\n",
    "random.seed(42)\n",
    "i = 0 \n",
    "ts_c = 10\n",
    "while(i<ts_c) : \n",
    "    x = (random.choice(range(0,19906)))\n",
    "    if x not in test_Inp:\n",
    "        test_Inp.append(x)\n",
    "        i+=1\n",
    "test_Out=[]\n",
    "for i in range(0,ts_c):\n",
    "    test_Out.append(test_Inp[i])\n",
    "print(test_Inp)\n",
    "print(test_Out)"
   ]
  },
  {
   "cell_type": "code",
   "execution_count": 119,
   "metadata": {},
   "outputs": [],
   "source": [
    "I=[]\n",
    "H=[]\n",
    "O=[]\n",
    "\n",
    "random.seed(42)\n",
    "\n",
    "for i in range(max_initial_node):\n",
    "    I.append(round(random.uniform(0.0,4.0),2))\n",
    "for i in range(0,15):\n",
    "    H.append(round(random.uniform(0.0,4.0),2))\n",
    "for i in range(0,3):\n",
    "    O.append(round(random.uniform(0.0,4.0),2))\n",
    "\n",
    "O = np.array(O)\n",
    "H = np.array(H)\n",
    "I = np.array(I)"
   ]
  },
  {
   "cell_type": "code",
   "execution_count": 7,
   "metadata": {},
   "outputs": [
    {
     "name": "stdout",
     "output_type": "stream",
     "text": [
      "22500\n",
      "[3.23 1.9  1.52]\n"
     ]
    }
   ],
   "source": [
    "print(len(I))\n",
    "print(O)"
   ]
  },
  {
   "cell_type": "code",
   "execution_count": 8,
   "metadata": {},
   "outputs": [
    {
     "name": "stderr",
     "output_type": "stream",
     "text": [
      "c:\\Users\\VIGNESH RAAM SR\\AppData\\Local\\Programs\\Python\\Python310\\lib\\site-packages\\numba\\core\\ir_utils.py:2147: NumbaPendingDeprecationWarning: \u001b[1m\n",
      "Encountered the use of a type that is scheduled for deprecation: type 'reflected list' found for argument 'arr' of function 'row_major_ordering'.\n",
      "\n",
      "For more information visit https://numba.readthedocs.io/en/stable/reference/deprecation.html#deprecation-of-reflection-for-list-and-set-types\n",
      "\u001b[1m\n",
      "File \"C:\\Users\\VIGNESH RAAM SR\\AppData\\Local\\Temp\\ipykernel_4664\\4152637448.py\", line 2:\u001b[0m\n",
      "\u001b[1m@jit(target_backend='cuda')\n",
      "\u001b[1mdef row_major_ordering(arr,x):\n",
      "\u001b[0m\u001b[1m^\u001b[0m\u001b[0m\n",
      "\u001b[0m\n",
      "  warnings.warn(NumbaPendingDeprecationWarning(msg, loc=loc))\n"
     ]
    }
   ],
   "source": [
    "@jit(target_backend='cuda')\n",
    "def row_major_ordering(arr,x):\n",
    "    for i in range(0,len(arr)):\n",
    "        arr[i]=arr[i].reshape((1,x))\n",
    "\n",
    "image_row_major_ordered = image.copy()\n",
    "row_major_ordering(image_row_major_ordered,max_initial_node)\n"
   ]
  },
  {
   "cell_type": "code",
   "execution_count": 9,
   "metadata": {},
   "outputs": [
    {
     "name": "stdout",
     "output_type": "stream",
     "text": [
      "(150, 150)\n"
     ]
    }
   ],
   "source": [
    "print(image[1].shape)\n"
   ]
  },
  {
   "cell_type": "code",
   "execution_count": 10,
   "metadata": {},
   "outputs": [
    {
     "data": {
      "text/plain": [
       "array([[ 48,  48,  48, ..., 140, 146, 148]], dtype=uint8)"
      ]
     },
     "execution_count": 10,
     "metadata": {},
     "output_type": "execute_result"
    }
   ],
   "source": [
    "image_row_major_ordered[0]"
   ]
  },
  {
   "cell_type": "code",
   "execution_count": 11,
   "metadata": {},
   "outputs": [
    {
     "name": "stdout",
     "output_type": "stream",
     "text": [
      "0.9820137900379085\n"
     ]
    }
   ],
   "source": [
    "def sigmoid(f):\n",
    "    return (1 /(1+(e**(-1*f))) )\n",
    "\n",
    "\n",
    "print(sigmoid(4))\n",
    "\n",
    "\n",
    "Sigmoid = np.vectorize(sigmoid)"
   ]
  },
  {
   "cell_type": "code",
   "execution_count": 12,
   "metadata": {},
   "outputs": [
    {
     "name": "stderr",
     "output_type": "stream",
     "text": [
      "C:\\Users\\VIGNESH RAAM SR\\AppData\\Local\\Temp\\ipykernel_4664\\93098362.py:1: NumbaWarning: \u001b[1m\n",
      "Compilation is falling back to object mode WITH looplifting enabled because Function \"Input\" failed type inference due to: \u001b[1m\u001b[1m\u001b[1mNo implementation of function Function(<built-in function array>) found for signature:\n",
      " \n",
      " >>> array(array(float64, 1d, C))\n",
      " \n",
      "There are 4 candidate implementations:\n",
      "\u001b[1m  - Of which 4 did not match due to:\n",
      "  Overload in function '_OverloadWrapper._build.<locals>.ol_generated': File: numba\\core\\overload_glue.py: Line 129.\n",
      "    With argument(s): '(array(float64, 1d, C))':\u001b[0m\n",
      "\u001b[1m   Rejected as the implementation raised a specific error:\n",
      "     TypingError: \u001b[1marray(float64, 1d, C) not allowed in a homogeneous sequence\u001b[0m\u001b[0m\n",
      "  raised from c:\\Users\\VIGNESH RAAM SR\\AppData\\Local\\Programs\\Python\\Python310\\lib\\site-packages\\numba\\core\\typing\\npydecl.py:488\n",
      "\u001b[0m\n",
      "\u001b[0m\u001b[1mDuring: resolving callee type: Function(<built-in function array>)\u001b[0m\n",
      "\u001b[0m\u001b[1mDuring: typing of call at C:\\Users\\VIGNESH RAAM SR\\AppData\\Local\\Temp\\ipykernel_4664\\93098362.py (3)\n",
      "\u001b[0m\n",
      "\u001b[1m\n",
      "File \"C:\\Users\\VIGNESH RAAM SR\\AppData\\Local\\Temp\\ipykernel_4664\\93098362.py\", line 3:\u001b[0m\n",
      "\u001b[1mdef Input(Ima_arr,S):\n",
      "\u001b[1m    return Ima_arr * np.array(S)\n",
      "\u001b[0m    \u001b[1m^\u001b[0m\u001b[0m\n",
      "\u001b[0m\n",
      "  @jit(target_backend='cuda')\n",
      "c:\\Users\\VIGNESH RAAM SR\\AppData\\Local\\Programs\\Python\\Python310\\lib\\site-packages\\numba\\core\\object_mode_passes.py:151: NumbaWarning: \u001b[1mFunction \"Input\" was compiled in object mode without forceobj=True.\n",
      "\u001b[1m\n",
      "File \"C:\\Users\\VIGNESH RAAM SR\\AppData\\Local\\Temp\\ipykernel_4664\\93098362.py\", line 2:\u001b[0m\n",
      "\u001b[1m@jit(target_backend='cuda')\n",
      "\u001b[1mdef Input(Ima_arr,S):\n",
      "\u001b[0m\u001b[1m^\u001b[0m\u001b[0m\n",
      "\u001b[0m\n",
      "  warnings.warn(errors.NumbaWarning(warn_msg,\n",
      "c:\\Users\\VIGNESH RAAM SR\\AppData\\Local\\Programs\\Python\\Python310\\lib\\site-packages\\numba\\core\\object_mode_passes.py:161: NumbaDeprecationWarning: \u001b[1m\n",
      "Fall-back from the nopython compilation path to the object mode compilation path has been detected, this is deprecated behaviour.\n",
      "\n",
      "For more information visit https://numba.readthedocs.io/en/stable/reference/deprecation.html#deprecation-of-object-mode-fall-back-behaviour-when-using-jit\n",
      "\u001b[1m\n",
      "File \"C:\\Users\\VIGNESH RAAM SR\\AppData\\Local\\Temp\\ipykernel_4664\\93098362.py\", line 2:\u001b[0m\n",
      "\u001b[1m@jit(target_backend='cuda')\n",
      "\u001b[1mdef Input(Ima_arr,S):\n",
      "\u001b[0m\u001b[1m^\u001b[0m\u001b[0m\n",
      "\u001b[0m\n",
      "  warnings.warn(errors.NumbaDeprecationWarning(msg,\n"
     ]
    }
   ],
   "source": [
    "@jit(target_backend='cuda')\n",
    "def Input(Ima_arr,S):\n",
    "    return Ima_arr * np.array(S)\n",
    "    \n",
    "\n",
    "def vrs(image_row_major_ordered,D):\n",
    "    image_row_major_ordered_product= [] \n",
    "    for i in image_row_major_ordered:\n",
    "        image_row_major_ordered_product.append(Input(i,D))\n",
    "    return image_row_major_ordered_product\n",
    "\n",
    "\n",
    "image_row_major_ordered_Prod  = vrs(image_row_major_ordered,I)"
   ]
  },
  {
   "cell_type": "code",
   "execution_count": 13,
   "metadata": {},
   "outputs": [],
   "source": [
    "@jit(target_backend='cuda')\n",
    "def Splitter_arr(image_row_major_ordered_,N):\n",
    "    List=[]\n",
    "    for i in image_row_major_ordered_:\n",
    "        List.append(np.split(i,N,axis=1))\n",
    "    return List\n",
    "\n",
    "\n",
    "\n",
    "# image_row_major_ordered_Prod_Splitted_To_Hidden  = Splitter_arr(image_row_major_ordered_Prod,15)\n"
   ]
  },
  {
   "cell_type": "code",
   "execution_count": 14,
   "metadata": {},
   "outputs": [],
   "source": [
    "@jit(target_backend='cuda')\n",
    "def transfer(image_row_major_ordered_splitted1):\n",
    "    List1=[]\n",
    "    for i in image_row_major_ordered_splitted1:\n",
    "        data=[]\n",
    "        for j in i:\n",
    "            data.append(np.sum(j))\n",
    "        List1.append(data)\n",
    "    return List1\n",
    "\n",
    "\n",
    "# image_row_major_ordered_To_Hidden = transfer(image_row_major_ordered_Prod_Splitted_To_Hidden)\n",
    "\n",
    "\n"
   ]
  },
  {
   "cell_type": "markdown",
   "metadata": {},
   "source": [
    "                                                        ------Creation of First layer done-------"
   ]
  },
  {
   "cell_type": "code",
   "execution_count": 15,
   "metadata": {},
   "outputs": [],
   "source": [
    "@jit(target_backend='cuda')\n",
    "def Activate(image_Product):\n",
    "    List2=[]\n",
    "    for i in image_Product:\n",
    "        List2.append(Sigmoid(np.array(i)))\n",
    "    return List2\n",
    "# Output_Input_Layer = Activate(image_row_major_ordered_To_Hidden)\n"
   ]
  },
  {
   "cell_type": "code",
   "execution_count": 16,
   "metadata": {},
   "outputs": [],
   "source": [
    "def Recongnizer(IN):\n",
    "    for i in range(0,len(IN)):\n",
    "        IN[i] = IN[i].reshape((1,IN[i].shape[0]))\n",
    "    return IN"
   ]
  },
  {
   "cell_type": "markdown",
   "metadata": {},
   "source": [
    "                                                        --- Completion of Forward propagation---       "
   ]
  },
  {
   "cell_type": "code",
   "execution_count": 17,
   "metadata": {},
   "outputs": [],
   "source": [
    "D = Data[\"Class\"]\n",
    "Ground_Truth = []\n",
    "for i in D:\n",
    "    if i==\"YOUNG\":\n",
    "        Ground_Truth.append(np.array([1,0,0]))\n",
    "    elif i==\"MIDDLE\":\n",
    "        Ground_Truth.append(np.array([0,1,0]))\n",
    "    elif i ==\"OLD\":\n",
    "        Ground_Truth.append(np.array([0,0,1]))\n",
    "\n"
   ]
  },
  {
   "cell_type": "code",
   "execution_count": 130,
   "metadata": {},
   "outputs": [],
   "source": [
    "A = []\n",
    "for i in range(0,len(image_row_major_ordered)):\n",
    "    if i not in test_Inp:\n",
    "        A.append(image_row_major_ordered[i])\n",
    "        Out_First =Activate(transfer(Splitter_arr(vrs(A,I),15)))\n",
    "        Out_First = Recongnizer(Out_First)\n",
    "        Out_Hidden = Activate(transfer(Splitter_arr(vrs(Out_First,H),3)))\n",
    "        Out_Hidden =  Recongnizer(Out_Hidden)\n",
    "        Out_Final = Activate(vrs(Out_Hidden,O))\n",
    "        Per_weight_out = (Ground_Truth[i] - Out_Final[0]) * (np.ones(3)-Out_Final[0]) * Out_Final[0] \n",
    "        O = O + Alpha * Per_weight_out* Out_Hidden[0]\n",
    "        Per_weight=[]\n",
    "        for i in range(0,3): \n",
    "            Per_weight.append(np.array([Per_weight_out[0][i] * O[0][i] * (1-Out_Hidden[0][0][i]) * Out_Hidden[0][0][i] ]))\n",
    "        Per_weight = np.array(Per_weight)\n",
    "        Per_weight = Per_weight.reshape(1,3)\n",
    "        X = Splitter_arr(Out_First,3)\n",
    "        Per_weight_hid = [] \n",
    "        for i in range(0,3):\n",
    "            Per_weight_hid.append(Per_weight[0][i] * X[0][i])\n",
    "        Per_weight_hid[0] = np.append(Per_weight_hid[0],Per_weight_hid[1])\n",
    "        Per_weight_hid[0] = np.append(Per_weight_hid[0],Per_weight_hid[2])\n",
    "        Per_weight_hid.pop(1)\n",
    "        Per_weight_hid.pop(1)\n",
    "        H = H + Alpha*Per_weight_hid[0]  \n",
    "        Per_weight_In = [] \n",
    "        # Z = Splitter_arr(np.array(H),3)\n",
    "        # print(Z)\n",
    "        for i in range(0,3):\n",
    "            for j in range(0,5):\n",
    "                Per_weight_In.append(np.array([(Per_weight[0][i] * H[j]) * ( 1- Out_First[0][0][j]) * Out_First[0][0][j]]))\n",
    "        X= Splitter_arr(A,15)\n",
    "        Per_weight_Inp = [] \n",
    "        for i in range (0,15):\n",
    "            Per_weight_Inp.append(Per_weight_In[i][0] * X[0][i])\n",
    "        for i in range(1,15):\n",
    "            Per_weight_Inp[0] = np.append(Per_weight_Inp[0],Per_weight_Inp[i])\n",
    "        while(len(Per_weight_Inp)!=1):\n",
    "            Per_weight_Inp.pop(1)\n",
    "        I = I + Alpha * Per_weight_Inp[0]\n",
    "        A.pop()"
   ]
  },
  {
   "cell_type": "code",
   "execution_count": 126,
   "metadata": {},
   "outputs": [],
   "source": [
    "Dt =pd.read_csv(\"Out.csv\")\n",
    "with open(\"Iweight.txt\",\"w\") as f : \n",
    "    for i in list(I):\n",
    "        f.write(str(i) + '\\n') \n",
    "    f.close()\n",
    "\n",
    "with open(\"Hweight.txt\",\"w\") as f : \n",
    "    for i in list(H):\n",
    "        f.write(str(i) + '\\n') \n",
    "    f.close()\n",
    "with open(\"Oweight.txt\",\"w\") as f : \n",
    "    for i in range(0,len(list(O)[0])):\n",
    "        f.write(str(list(O)[0][i]) + '\\n') \n",
    "    f.close()  \n"
   ]
  },
  {
   "cell_type": "code",
   "execution_count": 127,
   "metadata": {},
   "outputs": [],
   "source": [
    "def Output_Opt(d):\n",
    "    arr=[]\n",
    "    for i in range(0,3):\n",
    "        if d[0][0][i]<0.5:\n",
    "            arr.append(0)\n",
    "        else:\n",
    "            arr.append(1)\n",
    "    return arr"
   ]
  },
  {
   "cell_type": "code",
   "execution_count": 131,
   "metadata": {},
   "outputs": [
    {
     "name": "stdout",
     "output_type": "stream",
     "text": [
      "Accuracy:  70.0\n"
     ]
    }
   ],
   "source": [
    "count = 0 \n",
    "for i in test_Inp:\n",
    "    Out_First =Activate(transfer(Splitter_arr(vrs([image_row_major_ordered[i]],I),15)))\n",
    "    Out_First = Recongnizer(Out_First)\n",
    "    Out_Hidden = Activate(transfer(Splitter_arr(vrs(Out_First,H),3)))\n",
    "    Out_Hidden =  Recongnizer(Out_Hidden)\n",
    "    Out_Final = Activate(vrs(Out_Hidden,O))\n",
    "    if (Output_Opt(Out_Final)==list(Ground_Truth[i])):\n",
    "        count  = count +  1 \n",
    "print(\"Accuracy: \",(count / float(ts_c))*100 )\n",
    "\n",
    "    "
   ]
  },
  {
   "cell_type": "markdown",
   "metadata": {},
   "source": [
    "White Box Successfully implemented"
   ]
  }
 ],
 "metadata": {
  "kernelspec": {
   "display_name": "Python 3 (ipykernel)",
   "language": "python",
   "name": "python3"
  },
  "language_info": {
   "codemirror_mode": {
    "name": "ipython",
    "version": 3
   },
   "file_extension": ".py",
   "mimetype": "text/x-python",
   "name": "python",
   "nbconvert_exporter": "python",
   "pygments_lexer": "ipython3",
   "version": "3.10.0"
  },
  "vscode": {
   "interpreter": {
    "hash": "a81d134a517083afb5312dcac4faac8b01f4244fe091f93e33bfdb38cf1265e3"
   }
  }
 },
 "nbformat": 4,
 "nbformat_minor": 2
}
