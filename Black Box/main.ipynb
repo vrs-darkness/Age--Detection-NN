{
 "cells": [
  {
   "cell_type": "code",
   "execution_count": 112,
   "metadata": {},
   "outputs": [],
   "source": [
    "import tensorflow as tf\n",
    "from tensorflow import keras\n",
    "import numpy as np\n",
    "import pandas as pd\n",
    "from numba import jit , cuda\n",
    "from PIL import Image\n",
    "import random"
   ]
  },
  {
   "cell_type": "code",
   "execution_count": 113,
   "metadata": {},
   "outputs": [
    {
     "name": "stdout",
     "output_type": "stream",
     "text": [
      "[3648, 819, 9012, 8024, 7314, 4572, 3358, 17870, 2848, 19349]\n",
      "[3648, 819, 9012, 8024, 7314, 4572, 3358, 17870, 2848, 19349]\n"
     ]
    }
   ],
   "source": [
    "test_Inp = []\n",
    "random.seed(42)\n",
    "i = 0 \n",
    "ts_c = 10\n",
    "while(i<ts_c) : \n",
    "    x = (random.choice(range(0,19906)))\n",
    "    if x not in test_Inp:\n",
    "        test_Inp.append(x)\n",
    "        i+=1\n",
    "test_Out=[]\n",
    "for i in range(0,ts_c):\n",
    "    test_Out.append(test_Inp[i])\n",
    "print(test_Inp)\n",
    "print(test_Out)"
   ]
  },
  {
   "cell_type": "code",
   "execution_count": 32,
   "metadata": {},
   "outputs": [],
   "source": [
    "Data = pd.read_csv(r\"V:\\python\\Neural Network\\Training_Dataset\\train.csv\")\n",
    "Data[\"ID\"]\n",
    "Alpha = 0.5"
   ]
  },
  {
   "cell_type": "code",
   "execution_count": 33,
   "metadata": {},
   "outputs": [
    {
     "name": "stderr",
     "output_type": "stream",
     "text": [
      "C:\\Users\\VIGNESH RAAM SR\\AppData\\Local\\Temp\\ipykernel_2872\\3850650326.py:1: NumbaWarning: \u001b[1m\n",
      "Compilation is falling back to object mode WITH looplifting enabled because Function \"func\" failed type inference due to: \u001b[1m\u001b[1mnon-precise type pyobject\u001b[0m\n",
      "\u001b[0m\u001b[1mDuring: typing of argument at C:\\Users\\VIGNESH RAAM SR\\AppData\\Local\\Temp\\ipykernel_2872\\3850650326.py (3)\u001b[0m\n",
      "\u001b[1m\n",
      "File \"C:\\Users\\VIGNESH RAAM SR\\AppData\\Local\\Temp\\ipykernel_2872\\3850650326.py\", line 3:\u001b[0m\n",
      "\u001b[1mdef func(Image1,Data):\n",
      "\u001b[1m    data=[]\n",
      "\u001b[0m    \u001b[1m^\u001b[0m\u001b[0m\n",
      "\u001b[0m\n",
      "  @jit(target_backend='cuda')\n",
      "C:\\Users\\VIGNESH RAAM SR\\AppData\\Local\\Temp\\ipykernel_2872\\3850650326.py:1: NumbaWarning: \u001b[1m\n",
      "Compilation is falling back to object mode WITHOUT looplifting enabled because Function \"func\" failed type inference due to: \u001b[1m\u001b[1mCannot determine Numba type of <class 'numba.core.dispatcher.LiftedLoop'>\u001b[0m\n",
      "\u001b[1m\n",
      "File \"C:\\Users\\VIGNESH RAAM SR\\AppData\\Local\\Temp\\ipykernel_2872\\3850650326.py\", line 4:\u001b[0m\n",
      "\u001b[1mdef func(Image1,Data):\n",
      "    <source elided>\n",
      "    data=[]\n",
      "\u001b[1m    for i in Data:\n",
      "\u001b[0m    \u001b[1m^\u001b[0m\u001b[0m\n",
      "\u001b[0m\u001b[0m\n",
      "  @jit(target_backend='cuda')\n",
      "c:\\Users\\VIGNESH RAAM SR\\AppData\\Local\\Programs\\Python\\Python310\\lib\\site-packages\\numba\\core\\object_mode_passes.py:151: NumbaWarning: \u001b[1mFunction \"func\" was compiled in object mode without forceobj=True, but has lifted loops.\n",
      "\u001b[1m\n",
      "File \"C:\\Users\\VIGNESH RAAM SR\\AppData\\Local\\Temp\\ipykernel_2872\\3850650326.py\", line 3:\u001b[0m\n",
      "\u001b[1mdef func(Image1,Data):\n",
      "\u001b[1m    data=[]\n",
      "\u001b[0m    \u001b[1m^\u001b[0m\u001b[0m\n",
      "\u001b[0m\n",
      "  warnings.warn(errors.NumbaWarning(warn_msg,\n",
      "c:\\Users\\VIGNESH RAAM SR\\AppData\\Local\\Programs\\Python\\Python310\\lib\\site-packages\\numba\\core\\object_mode_passes.py:161: NumbaDeprecationWarning: \u001b[1m\n",
      "Fall-back from the nopython compilation path to the object mode compilation path has been detected, this is deprecated behaviour.\n",
      "\n",
      "For more information visit https://numba.readthedocs.io/en/stable/reference/deprecation.html#deprecation-of-object-mode-fall-back-behaviour-when-using-jit\n",
      "\u001b[1m\n",
      "File \"C:\\Users\\VIGNESH RAAM SR\\AppData\\Local\\Temp\\ipykernel_2872\\3850650326.py\", line 3:\u001b[0m\n",
      "\u001b[1mdef func(Image1,Data):\n",
      "\u001b[1m    data=[]\n",
      "\u001b[0m    \u001b[1m^\u001b[0m\u001b[0m\n",
      "\u001b[0m\n",
      "  warnings.warn(errors.NumbaDeprecationWarning(msg,\n",
      "C:\\Users\\VIGNESH RAAM SR\\AppData\\Local\\Temp\\ipykernel_2872\\3850650326.py:1: NumbaWarning: \u001b[1m\n",
      "Compilation is falling back to object mode WITHOUT looplifting enabled because Function \"func\" failed type inference due to: \u001b[1m\u001b[1mnon-precise type pyobject\u001b[0m\n",
      "\u001b[0m\u001b[1mDuring: typing of argument at C:\\Users\\VIGNESH RAAM SR\\AppData\\Local\\Temp\\ipykernel_2872\\3850650326.py (4)\u001b[0m\n",
      "\u001b[1m\n",
      "File \"C:\\Users\\VIGNESH RAAM SR\\AppData\\Local\\Temp\\ipykernel_2872\\3850650326.py\", line 4:\u001b[0m\n",
      "\u001b[1mdef func(Image1,Data):\n",
      "    <source elided>\n",
      "    data=[]\n",
      "\u001b[1m    for i in Data:\n",
      "\u001b[0m    \u001b[1m^\u001b[0m\u001b[0m\n",
      "\u001b[0m\n",
      "  @jit(target_backend='cuda')\n",
      "c:\\Users\\VIGNESH RAAM SR\\AppData\\Local\\Programs\\Python\\Python310\\lib\\site-packages\\numba\\core\\object_mode_passes.py:151: NumbaWarning: \u001b[1mFunction \"func\" was compiled in object mode without forceobj=True.\n",
      "\u001b[1m\n",
      "File \"C:\\Users\\VIGNESH RAAM SR\\AppData\\Local\\Temp\\ipykernel_2872\\3850650326.py\", line 4:\u001b[0m\n",
      "\u001b[1mdef func(Image1,Data):\n",
      "    <source elided>\n",
      "    data=[]\n",
      "\u001b[1m    for i in Data:\n",
      "\u001b[0m    \u001b[1m^\u001b[0m\u001b[0m\n",
      "\u001b[0m\n",
      "  warnings.warn(errors.NumbaWarning(warn_msg,\n",
      "c:\\Users\\VIGNESH RAAM SR\\AppData\\Local\\Programs\\Python\\Python310\\lib\\site-packages\\numba\\core\\object_mode_passes.py:161: NumbaDeprecationWarning: \u001b[1m\n",
      "Fall-back from the nopython compilation path to the object mode compilation path has been detected, this is deprecated behaviour.\n",
      "\n",
      "For more information visit https://numba.readthedocs.io/en/stable/reference/deprecation.html#deprecation-of-object-mode-fall-back-behaviour-when-using-jit\n",
      "\u001b[1m\n",
      "File \"C:\\Users\\VIGNESH RAAM SR\\AppData\\Local\\Temp\\ipykernel_2872\\3850650326.py\", line 4:\u001b[0m\n",
      "\u001b[1mdef func(Image1,Data):\n",
      "    <source elided>\n",
      "    data=[]\n",
      "\u001b[1m    for i in Data:\n",
      "\u001b[0m    \u001b[1m^\u001b[0m\u001b[0m\n",
      "\u001b[0m\n",
      "  warnings.warn(errors.NumbaDeprecationWarning(msg,\n"
     ]
    },
    {
     "name": "stdout",
     "output_type": "stream",
     "text": [
      "done\n"
     ]
    }
   ],
   "source": [
    "\n",
    "\n",
    "@jit(target_backend='cuda')\n",
    "def func(Image1,Data):\n",
    "    data=[]\n",
    "    for i in Data:\n",
    "        data.append(np.asarray(Image.open(Image1+i).resize((150,150)).convert(\"L\")))\n",
    "    return data\n",
    "\n",
    "\n",
    "if __name__==\"__main__\":\n",
    "    image=[]\n",
    "    Image1=r\"V:\\python\\Neural Network\\Training_Dataset\\Train\\\\\"\n",
    "    image = func(Image1,Data[\"ID\"])\n",
    "    print(\"done\")\n",
    "\n",
    "\n"
   ]
  },
  {
   "cell_type": "code",
   "execution_count": 114,
   "metadata": {},
   "outputs": [
    {
     "name": "stderr",
     "output_type": "stream",
     "text": [
      "c:\\Users\\VIGNESH RAAM SR\\AppData\\Local\\Programs\\Python\\Python310\\lib\\site-packages\\numba\\core\\ir_utils.py:2147: NumbaPendingDeprecationWarning: \u001b[1m\n",
      "Encountered the use of a type that is scheduled for deprecation: type 'reflected list' found for argument 'arr' of function 'row_major_ordering'.\n",
      "\n",
      "For more information visit https://numba.readthedocs.io/en/stable/reference/deprecation.html#deprecation-of-reflection-for-list-and-set-types\n",
      "\u001b[1m\n",
      "File \"C:\\Users\\VIGNESH RAAM SR\\AppData\\Local\\Temp\\ipykernel_2872\\411657787.py\", line 2:\u001b[0m\n",
      "\u001b[1m@jit(target_backend='cuda')\n",
      "\u001b[1mdef row_major_ordering(arr,x):\n",
      "\u001b[0m\u001b[1m^\u001b[0m\u001b[0m\n",
      "\u001b[0m\n",
      "  warnings.warn(NumbaPendingDeprecationWarning(msg, loc=loc))\n"
     ]
    }
   ],
   "source": [
    "@jit(target_backend='cuda')\n",
    "def row_major_ordering(arr,x):\n",
    "    for i in range(0,len(arr)):\n",
    "        arr[i]=arr[i].reshape((1,x))\n",
    "\n",
    "image_row_major_ordered = image.copy()\n",
    "row_major_ordering(image_row_major_ordered,22500)\n",
    "test_data = []\n",
    "for i in test_Inp:\n",
    "    test_data.append(image_row_major_ordered[i])\n",
    "    image_row_major_ordered.pop(i)\n"
   ]
  },
  {
   "cell_type": "code",
   "execution_count": 116,
   "metadata": {},
   "outputs": [],
   "source": [
    "D = Data[\"Class\"]\n",
    "Ground_Truth = []\n",
    "for i in D:\n",
    "    if i==\"YOUNG\":\n",
    "        Ground_Truth.append(np.array([1,0,0]))\n",
    "    elif i==\"MIDDLE\":\n",
    "        Ground_Truth.append(np.array([0,1,0]))\n",
    "    elif i ==\"OLD\":\n",
    "        Ground_Truth.append(np.array([0,0,1]))\n",
    "test_out= []\n",
    "for i in test_Out:\n",
    "    test_out.append(Ground_Truth[i])\n",
    "    Ground_Truth.pop(i)"
   ]
  },
  {
   "cell_type": "code",
   "execution_count": 117,
   "metadata": {},
   "outputs": [],
   "source": [
    "Output = np.array(Ground_Truth)\n",
    "Input1 = np.array(image_row_major_ordered).reshape((19906-ts_c,22500))"
   ]
  },
  {
   "cell_type": "code",
   "execution_count": 118,
   "metadata": {},
   "outputs": [
    {
     "name": "stdout",
     "output_type": "stream",
     "text": [
      "Model: \"sequential_14\"\n",
      "_________________________________________________________________\n",
      " Layer (type)                Output Shape              Param #   \n",
      "=================================================================\n",
      " dense_12 (Dense)            (None, 15)                337515    \n",
      "                                                                 \n",
      " dense_13 (Dense)            (None, 3)                 48        \n",
      "                                                                 \n",
      "=================================================================\n",
      "Total params: 337,563\n",
      "Trainable params: 337,563\n",
      "Non-trainable params: 0\n",
      "_________________________________________________________________\n"
     ]
    }
   ],
   "source": [
    "from tensorflow.keras.layers import Input, Dense\n",
    "from tensorflow.keras.models import Sequential\n",
    "\n",
    "model = Sequential()\n",
    "model.add(Input(shape = Input1[0].shape))\n",
    "model.add(Dense(15, activation = \"sigmoid\"))\n",
    "model.add(Dense(3, activation = \"sigmoid\"))\n",
    "\n",
    "model.summary()\n"
   ]
  },
  {
   "cell_type": "code",
   "execution_count": 119,
   "metadata": {},
   "outputs": [],
   "source": [
    "model.compile(optimizer = \"adam\", loss = \"binary_crossentropy\", metrics = \"binary_accuracy\")"
   ]
  },
  {
   "cell_type": "code",
   "execution_count": 120,
   "metadata": {},
   "outputs": [
    {
     "name": "stdout",
     "output_type": "stream",
     "text": [
      "Epoch 1/2\n",
      "622/622 [==============================] - 7s 10ms/step - loss: 0.5707 - binary_accuracy: 0.6941\n",
      "Epoch 2/2\n",
      "622/622 [==============================] - 5s 7ms/step - loss: 0.5654 - binary_accuracy: 0.6952\n"
     ]
    },
    {
     "data": {
      "text/plain": [
       "<keras.callbacks.History at 0x17e24b92620>"
      ]
     },
     "execution_count": 120,
     "metadata": {},
     "output_type": "execute_result"
    }
   ],
   "source": [
    "model.fit(Input1,Output, epochs = 2)"
   ]
  },
  {
   "cell_type": "code",
   "execution_count": 153,
   "metadata": {},
   "outputs": [],
   "source": [
    "def Output_Opt(d):\n",
    "    arr=[]\n",
    "    for i in range(0,3):\n",
    "        if d[0][i]<0.5:\n",
    "            arr.append(0)\n",
    "        else:\n",
    "            arr.append(1)\n",
    "    return arr"
   ]
  },
  {
   "cell_type": "code",
   "execution_count": 155,
   "metadata": {},
   "outputs": [
    {
     "name": "stdout",
     "output_type": "stream",
     "text": [
      "1/1 [==============================] - 0s 24ms/step\n",
      "1/1 [==============================] - 0s 32ms/step\n",
      "1/1 [==============================] - 0s 24ms/step\n",
      "1/1 [==============================] - 0s 24ms/step\n",
      "1/1 [==============================] - 0s 24ms/step\n",
      "1/1 [==============================] - 0s 24ms/step\n",
      "1/1 [==============================] - 0s 24ms/step\n",
      "1/1 [==============================] - 0s 32ms/step\n",
      "1/1 [==============================] - 0s 32ms/step\n",
      "1/1 [==============================] - 0s 32ms/step\n",
      "Accuracy is  :  50.0\n"
     ]
    }
   ],
   "source": [
    "Input2 = np.array(test_data).reshape((ts_c,22500))\n",
    "count = 0\n",
    "for i in range(0,len(Input2)):\n",
    "    data = Output_Opt(model.predict(Input2[i].reshape((1,22500))))\n",
    "    if ( list(test_out[i]) == data):\n",
    "        count  = count +  1 \n",
    "print(\"Accuracy is  : \" ,(count/ts_c) * 100)\n",
    "    "
   ]
  },
  {
   "cell_type": "markdown",
   "metadata": {},
   "source": [
    "Black Box Successfully Implemented"
   ]
  },
  {
   "cell_type": "markdown",
   "metadata": {},
   "source": []
  }
 ],
 "metadata": {
  "kernelspec": {
   "display_name": "Python 3.10.0 64-bit",
   "language": "python",
   "name": "python3"
  },
  "language_info": {
   "codemirror_mode": {
    "name": "ipython",
    "version": 3
   },
   "file_extension": ".py",
   "mimetype": "text/x-python",
   "name": "python",
   "nbconvert_exporter": "python",
   "pygments_lexer": "ipython3",
   "version": "3.10.0"
  },
  "orig_nbformat": 4,
  "vscode": {
   "interpreter": {
    "hash": "a81d134a517083afb5312dcac4faac8b01f4244fe091f93e33bfdb38cf1265e3"
   }
  }
 },
 "nbformat": 4,
 "nbformat_minor": 2
}
